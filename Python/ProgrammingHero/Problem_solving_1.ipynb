{
 "cells": [
  {
   "cell_type": "code",
   "execution_count": 42,
   "id": "abe736e2",
   "metadata": {},
   "outputs": [
    {
     "name": "stdout",
     "output_type": "stream",
     "text": [
      "2023\n",
      "все норм - живи!\n"
     ]
    }
   ],
   "source": [
    "# Leap year\n",
    "year = int(input())\n",
    "if year%4 == 0:\n",
    "    print(\"високосный - всё плохо!\")\n",
    "else:\n",
    "    print(\"все норм - живи!\")"
   ]
  },
  {
   "cell_type": "code",
   "execution_count": 15,
   "id": "60db17ac",
   "metadata": {},
   "outputs": [
    {
     "name": "stdout",
     "output_type": "stream",
     "text": [
      "k k k k k\\\n",
      "В строке 5 слов\n"
     ]
    }
   ],
   "source": [
    "# Counting the number of words 1\n",
    "string = str(input())\n",
    "words_count = string.count(\" \")\n",
    "print(f\"В строке {words_count + 1} слов\")\n",
    "\n",
    "# Counting the number of words 2\n",
    "string = str(input())\n",
    "words_count = 1\n",
    "for s in string:\n",
    "    if s == \" \":\n",
    "        words_count += 1\n",
    "print(f\"В строке {words_count} слов\")"
   ]
  },
  {
   "cell_type": "code",
   "execution_count": null,
   "id": "04753254",
   "metadata": {},
   "outputs": [],
   "source": [
    "# Counting the number of vowels\n",
    "word = str(input()).upper()\n",
    "vowels = (\"A\", \"E\", \"I\", \"O\", \"U\", \"Y\")\n",
    "def vowels_count(x):\n",
    "    count = 0\n",
    "    for letter in x:\n",
    "        if letter in vowels:\n",
    "            count += 1\n",
    "    print(f\"This word has {count} vowels\")\n",
    "vowels_count(word)\n",
    "    "
   ]
  },
  {
   "cell_type": "code",
   "execution_count": 39,
   "id": "622867d9",
   "metadata": {},
   "outputs": [
    {
     "name": "stdout",
     "output_type": "stream",
     "text": [
      "['Egor', 'egor', 'niko']\n",
      "[1, 345, 6]\n"
     ]
    }
   ],
   "source": [
    "# Removing duplicates from the list 1\n",
    "names = [\"Egor\", \"egor\", \"Egor\", \"egor\", 'niko', \"niko\"]\n",
    "numbers = [1, 1, 345, 345, 6, 6]\n",
    "def r_dubl(x):\n",
    "    new_list = []\n",
    "    for i in x:\n",
    "        if i not in new_list:\n",
    "            new_list.append(i)\n",
    "    return new_list\n",
    "print(r_dubl(names))\n",
    "print(r_dubl(numbers))     \n",
    "\n",
    "# Removing duplicates from the list 2\n",
    "names = [\"Egor\", \"egor\", \"Egor\", \"egor\", 'niko', \"niko\"]\n",
    "numbers = [1, 1, 345, 345, 6, 6]\n",
    "print(list(set(names)))"
   ]
  },
  {
   "cell_type": "code",
   "execution_count": 46,
   "id": "d7e877a2",
   "metadata": {},
   "outputs": [
    {
     "name": "stdout",
     "output_type": "stream",
     "text": [
      "34\n",
      "[0, 1, 1, 2, 3, 5, 8, 13, 21, 34]\n"
     ]
    }
   ],
   "source": [
    "# Fibonacci exact\n",
    "fib = [0, 1]\n",
    "numb = int(input())\n",
    "in1 = 0\n",
    "in2 = 1\n",
    "while numb not in fib:\n",
    "    fib.append(fib[in1]+fib[in2])\n",
    "    in1 += 1\n",
    "    in2 += 1\n",
    "print(fib)\n",
    "\n",
    "# Fibonacci is the nearest greater\n",
    "fib = [0, 1]\n",
    "numb = int(input())\n",
    "in1 = 0\n",
    "in2 = 1\n",
    "while numb > fib[len(fib) - 1]:\n",
    "    fib.append(fib[in1]+fib[in2])\n",
    "    in1 += 1\n",
    "    in2 += 1\n",
    "print(fib)\n",
    "\n",
    "# Fibanachi number of sequences\n",
    "def fib(x):\n",
    "  fib0 = [0, 1]\n",
    "  i = 2\n",
    "  while i < x:\n",
    "    fib0.append(fib0[i-2]+fib0[i-1])\n",
    "    i += 1\n",
    "  return fib0\n",
    "  \n",
    "\n",
    "print(fib(9))\n",
    "print(fib(4))"
   ]
  },
  {
   "cell_type": "code",
   "execution_count": 3,
   "id": "1b83b256",
   "metadata": {},
   "outputs": [
    {
     "name": "stdout",
     "output_type": "stream",
     "text": [
      "[-35, -6, 1, 9, 13, 22, 44, 56, 77, 666, 4000]\n"
     ]
    }
   ],
   "source": [
    "# Connection-sorting list\n",
    "a = [77, 22, 9, -6, 4000]\n",
    "b = [56, 13, 44, 666, 1, -35]\n",
    "\n",
    "\n",
    "def sum_sort(x, y):\n",
    "  z = x + y\n",
    "#   z.sort() только сортировка, не отображение списка\n",
    "  return sorted(z)\n",
    "print(sum_sort(a, b))"
   ]
  },
  {
   "cell_type": "code",
   "execution_count": 104,
   "id": "77122e3a",
   "metadata": {},
   "outputs": [
    {
     "name": "stdout",
     "output_type": "stream",
     "text": [
      "Your number: 77\n",
      "[0, 15, 30, 45, 60, 75]\n",
      "Your number: 77\n",
      "[75, 60, 45, 30, 15, 0]\n"
     ]
    }
   ],
   "source": [
    "# The numbers are smaller multiples of 3 and 5 (1)\n",
    "def cond1(x):\n",
    "    result = []\n",
    "    for i in range(x):\n",
    "        if i%3 == 0 and i%5 == 0:\n",
    "            result.append(i)\n",
    "    return result\n",
    "pip = cond1(int(input('Your number: ')))\n",
    "print(pip)\n",
    "\n",
    "# The numbers are smaller multiples of 3 and 5 (2)\n",
    "def cond2(x):\n",
    "    result = []\n",
    "    while x >= 0:\n",
    "        if x%3 == 0 and x%5 == 0:\n",
    "            result.append(x)\n",
    "        x -= 1\n",
    "    return result\n",
    "pip = cond2(int(input('Your number: ')))\n",
    "print(pip)"
   ]
  },
  {
   "cell_type": "code",
   "execution_count": 44,
   "id": "643a7733",
   "metadata": {},
   "outputs": [
    {
     "name": "stdout",
     "output_type": "stream",
     "text": [
      "8*0=0\n",
      "8*1=8\n",
      "8*2=16\n",
      "8*3=24\n",
      "8*4=32\n",
      "8*5=40\n",
      "8*6=48\n",
      "8*7=56\n",
      "8*8=64\n",
      "8*9=72\n",
      "8*10=80\n"
     ]
    }
   ],
   "source": [
    "# Multiplication table\n",
    "def multiple(x):\n",
    "  for i in range(0,11):\n",
    "    print(f\"{x}*{i}={x*i}\")\n",
    "multiple(8)\n",
    "# multiple(3)\n",
    "# multiple(5)"
   ]
  },
  {
   "cell_type": "code",
   "execution_count": 15,
   "id": "f2123f48",
   "metadata": {},
   "outputs": [
    {
     "name": "stdout",
     "output_type": "stream",
     "text": [
      "Дай число:7\n",
      "Дай дробь:8.88\n",
      "Результат умножения: 62.160000000000004\n"
     ]
    }
   ],
   "source": [
    "# Multiplication of numbers and float\n",
    "n, f = int(input('Дай число: ')), float(input('Дай дробь: '))\n",
    "print(f\"Результат умножения: {n*f}\")"
   ]
  },
  {
   "cell_type": "code",
   "execution_count": 50,
   "id": "91a2ecd1",
   "metadata": {},
   "outputs": [
    {
     "name": "stdout",
     "output_type": "stream",
     "text": [
      "Степень: 6\n",
      "Число: 6\n",
      "Моя функция : 46656\n",
      "встроенная - 8\n"
     ]
    }
   ],
   "source": [
    "# Raising the second number to the power of the first\n",
    "def power(x,y):\n",
    "    return y**x\n",
    "first, second = int(input('Степень: ')), int(input('Число: '))\n",
    "print(f'Моя функция : {power(first, second)}')\n",
    "\n",
    "# Есть встроенная функция в питоне\n",
    "print(f'встроенная - {pow(2,3)}')"
   ]
  },
  {
   "cell_type": "code",
   "execution_count": 51,
   "id": "27b27dfd",
   "metadata": {},
   "outputs": [
    {
     "name": "stdout",
     "output_type": "stream",
     "text": [
      "рандом - 6\n",
      "целое - 3\n",
      "1 10\n",
      "10 1\n"
     ]
    }
   ],
   "source": [
    "# Random number generation\n",
    "import random\n",
    "print(f'рандом - {random.randint(6,8)}')\n",
    "\n",
    "# Возращение целого числа до запятой\n",
    "import math\n",
    "print(f'целое - {math.floor(3.9)}')\n",
    "\n",
    "# Свап значений\n",
    "x, y = 1, 10\n",
    "print(x, y)\n",
    "\n",
    "x, y = y, x\n",
    "print(x, y)\n"
   ]
  },
  {
   "cell_type": "code",
   "execution_count": 76,
   "id": "960bae1d",
   "metadata": {},
   "outputs": [
    {
     "name": "stdout",
     "output_type": "stream",
     "text": [
      "first number: 23232\n",
      "second number: 5\n",
      "maximum number = 23232\n",
      "Enter two numbers separated by a space: 3 323\n",
      "maximum number = 323\n",
      "first number: 55\n",
      "second number: 12\n",
      "maximum number = 55\n",
      "first number: 12\n",
      "second number: 100\n",
      "maximum number = 100\n"
     ]
    }
   ],
   "source": [
    "# number comparison-list 1\n",
    "list1 = []\n",
    "list1.append(int(input('first number: ')))\n",
    "list1.append(int(input('second number: ')))\n",
    "print(f\"maximum number = {sorted(list1)[-1]}\")\n",
    "\n",
    "# number comparison-list 2\n",
    "list = input('Enter two numbers separated by a space: ').split()\n",
    "list = [int(i) for i in list]\n",
    "list.sort()\n",
    "print(f\"maximum number = {list[-1]}\")\n",
    "\n",
    "# number comparison-max\n",
    "b, c = int(input('first number: ')), int(input('second number: '))\n",
    "print(f\"maximum number = {max(c,b)}\")\n",
    "\n",
    "# number comparison-logical operators\n",
    "d, e = int(input('first number: ')), int(input('second number: '))\n",
    "if e > d:\n",
    "    print(f\"maximum number = {e}\")\n",
    "else:\n",
    "    print(f\"maximum number = {d}\")"
   ]
  },
  {
   "cell_type": "code",
   "execution_count": null,
   "id": "baf9c8ab",
   "metadata": {},
   "outputs": [],
   "source": [
    "# avg 1\n",
    "summa = []\n",
    "loop = int(input(\"How many numbers you want to enter? \"))\n",
    "for i in range(loop):\n",
    "    summa.append(int(input(f\"Enter {i+1} number: \")))\n",
    "avg = round(sum(summa)/loop, 2)\n",
    "print(f'Average number: {avg}')\n",
    "\n",
    "# avg 2\n",
    "summa = 0\n",
    "loop = int(input(\"How many numbers you want to enter? \"))\n",
    "for i in range(loop):\n",
    "    num = int(input(f\"Enter {i+1} number: \"))\n",
    "    summa += num\n",
    "avg = round((summa/loop), 2)\n",
    "print(f'Average number: {avg}')\n",
    "\n",
    "# avg 3\n",
    "summa = []\n",
    "loop = int(input('How many numbers you want to enter? '))\n",
    "while len(summa) < loop:\n",
    "    summa.append(int(input(f\"Enter {len(summa)+1} number: \")))\n",
    "avg = round(sum(summa)/len(summa), 2)\n",
    "print(f'Average number: {avg}')"
   ]
  },
  {
   "cell_type": "code",
   "execution_count": 1,
   "id": "62455117",
   "metadata": {},
   "outputs": [
    {
     "name": "stdout",
     "output_type": "stream",
     "text": [
      "Your number: 6534\n",
      "Sum of digits: 18\n",
      "Your number: 5149\n",
      "Sum of digits: 19\n"
     ]
    }
   ],
   "source": [
    "# The sum of the digits of a number 1\n",
    "s = int(input('Your number: '))\n",
    "otvet = 0\n",
    "while s > 0:\n",
    "    otvet += s%10\n",
    "    s = s//10\n",
    "print(\"Sum of digits:\", otvet)\n",
    "\n",
    "# The sum of the digits of a number 2\n",
    "number  = list(input('Your number: '))\n",
    "sum_of_number = sum([int(i) for i in number])\n",
    "print(\"Sum of digits:\", sum_of_number)"
   ]
  },
  {
   "cell_type": "code",
   "execution_count": null,
   "id": "b267a2b9",
   "metadata": {},
   "outputs": [],
   "source": []
  }
 ],
 "metadata": {
  "kernelspec": {
   "display_name": "Python 3 (ipykernel)",
   "language": "python",
   "name": "python3"
  },
  "language_info": {
   "codemirror_mode": {
    "name": "ipython",
    "version": 3
   },
   "file_extension": ".py",
   "mimetype": "text/x-python",
   "name": "python",
   "nbconvert_exporter": "python",
   "pygments_lexer": "ipython3",
   "version": "3.9.7"
  }
 },
 "nbformat": 4,
 "nbformat_minor": 5
}
