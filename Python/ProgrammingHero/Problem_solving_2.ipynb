{
 "cells": [
  {
   "cell_type": "code",
   "execution_count": 4,
   "id": "e67f65e4",
   "metadata": {},
   "outputs": [
    {
     "name": "stdout",
     "output_type": "stream",
     "text": [
      "212\n",
      "212\n"
     ]
    }
   ],
   "source": [
    "# Maximum from list 1\n",
    "x = [ 7, 55, 1, 101, 11, 212, 4, 34, 185, 10, 117, 8, 9]\n",
    "print(max(x))\n",
    "\n",
    "# Maximum from list 2\n",
    "x = [ 7, 55, 1, 101, 11, 212, 4, 34, 185, 10, 117, 8, 9]\n",
    "a = 0\n",
    "for i in x:\n",
    "    if i > a:\n",
    "        a = i\n",
    "print(a)"
   ]
  },
  {
   "cell_type": "code",
   "execution_count": 14,
   "id": "66b89550",
   "metadata": {},
   "outputs": [
    {
     "name": "stdout",
     "output_type": "stream",
     "text": [
      "Your number: 5\n",
      "55\n",
      "Your number: 5\n",
      "Sum of squares 55.0\n"
     ]
    }
   ],
   "source": [
    "# Sum of squares 1\n",
    "def sos(x):\n",
    "    sum_of_squar = 0\n",
    "    for i in range(x+1):\n",
    "        sum_of_squar = i**2+sum_of_squar\n",
    "    return sum_of_squar\n",
    "print(sos(int(input('Your number: '))))\n",
    "\n",
    "# Sum of squares 2\n",
    "def sosq(num):\n",
    "    sum = num*(num+1)*(2*num+1)/6\n",
    "    return sum\n",
    "num1 = int(input('Your number: '))\n",
    "print(f\"Sum of squares {sosq(num1)}\")"
   ]
  },
  {
   "cell_type": "code",
   "execution_count": 4,
   "id": "8da2349d",
   "metadata": {},
   "outputs": [
    {
     "name": "stdout",
     "output_type": "stream",
     "text": [
      "Your miles - 4356\n",
      "My km - 7010.3\n"
     ]
    }
   ],
   "source": [
    "# miles to km\n",
    "miles = float(input('Your miles - '))\n",
    "km = round(miles*1.609344, 1)\n",
    "print(f'My km - {km}')"
   ]
  },
  {
   "cell_type": "code",
   "execution_count": 5,
   "id": "29378874",
   "metadata": {},
   "outputs": [
    {
     "name": "stdout",
     "output_type": "stream",
     "text": [
      "Your celsius - °C54\n",
      "My fahrenhei - 129.2 °F\n"
     ]
    }
   ],
   "source": [
    "# celsius to fahrenhei\n",
    "celsius = float(input('Your celsius - °C'))\n",
    "fahrenhei = round(celsius*9/5+32,1)\n",
    "print(f'My fahrenhei - {fahrenhei} °F')\n",
    "\n",
    "# "
   ]
  },
  {
   "cell_type": "code",
   "execution_count": 13,
   "id": "95a28713",
   "metadata": {
    "scrolled": false
   },
   "outputs": [
    {
     "name": "stdout",
     "output_type": "stream",
     "text": [
      "Your decimal - 111111\n",
      "Binary - 11011001000000111\n",
      "Your decimal - 63\n",
      "Binary - 111111\n"
     ]
    }
   ],
   "source": [
    "# Decimal to binary\n",
    "num = int(input('Your decimal - '))\n",
    "def to_binary(a):\n",
    "    b = ''\n",
    "    while a > 0:\n",
    "        b = \"%s%s\" % (b, a%2)\n",
    "        a = a//2\n",
    "    return int(b[::-1])\n",
    "\n",
    "print(f'Binary - {to_binary(num)}')\n",
    "\n",
    "# Decimal to binary (Recursion) \n",
    "num = int(input('Your decimal - '))\n",
    "\n",
    "def binar(x):\n",
    "  if x == 0:\n",
    "    return \"\"\n",
    "  # return str(binar(x//2)) + str(x%2)\n",
    "  return \"%s%s\" % (binar(x//2), x%2)\n",
    "\n",
    "print(f'Binary - {binar(num)}')"
   ]
  },
  {
   "cell_type": "code",
   "execution_count": 12,
   "id": "a1997ce9",
   "metadata": {},
   "outputs": [
    {
     "name": "stdout",
     "output_type": "stream",
     "text": [
      "Your binary - 111111\n",
      "Decimal - 63\n"
     ]
    }
   ],
   "source": [
    "# Binary to decimal\n",
    "num = int(input('Your binary - '))\n",
    "\n",
    "def decimal(x):\n",
    "  dec = 1\n",
    "  x = str(x)\n",
    "  for i in x[1:]:\n",
    "    if i == \"0\":\n",
    "      dec *= 2\n",
    "    else:\n",
    "      dec = dec*2+1\n",
    "  return dec\n",
    "\n",
    "print(f'Decimal - {decimal(num)}')"
   ]
  },
  {
   "cell_type": "code",
   "execution_count": null,
   "id": "1e9bde35",
   "metadata": {},
   "outputs": [],
   "source": [
    "# Simple interest\n",
    "def zaim(suma, procent, time):\n",
    "  return suma/100*procent*time\n",
    "\n",
    "print((zaim(50000, 2, 2)))\n",
    "\n",
    "# Compound interest\n",
    "def compound_interest(suma, procent, time):\n",
    "  return suma*(1+procent/100)**time\n",
    "\n",
    "print(compound_interest(50000, 2, 2))\n"
   ]
  },
  {
   "cell_type": "code",
   "execution_count": 15,
   "id": "c1c950ae",
   "metadata": {},
   "outputs": [
    {
     "data": {
      "text/html": [
       "<table>\n",
       "<thead>\n",
       "<tr><th>Letter Grade  </th><th>Percentage  </th></tr>\n",
       "</thead>\n",
       "<tbody>\n",
       "<tr><td>A             </td><td>90–100%     </td></tr>\n",
       "<tr><td>B             </td><td>80–89%      </td></tr>\n",
       "<tr><td>C             </td><td>70–79%      </td></tr>\n",
       "<tr><td>D             </td><td>60–69%      </td></tr>\n",
       "<tr><td>F             </td><td>0–59%       </td></tr>\n",
       "</tbody>\n",
       "</table>"
      ],
      "text/plain": [
       "<IPython.core.display.HTML object>"
      ]
     },
     "metadata": {},
     "output_type": "display_data"
    },
    {
     "name": "stdout",
     "output_type": "stream",
     "text": [
      "Enter the marks separated by a space: 100 50 60\n",
      "Your grade of subjects: C\n"
     ]
    }
   ],
   "source": [
    "# Calculate grades\n",
    "\n",
    "from IPython.display import HTML, display\n",
    "from tabulate import tabulate \n",
    "\n",
    "display(HTML(tabulate(tabledata, tablefmt='html', headers=[\"Letter Grade\", \"Percentage\"])))\n",
    "\n",
    "tabledata = [[\"A\", \"90–100%\"],\n",
    "         [\"B\", \"80–89%\"],\n",
    "         [\"C\", \"70–79%\"],\n",
    "         [\"D\", \"60–69%\"],\n",
    "         [\"F\", \"0–59%\"]]\n",
    "\n",
    "\n",
    "\n",
    "grades = input('Enter the marks separated by a space: ')\n",
    "\n",
    "def calculate_grades(x):\n",
    "    x = x.split()\n",
    "    x = [int(i) for i in x]\n",
    "    x = round(sum(x)/len(x))\n",
    "    \n",
    "    if 90 <= x <= 100:\n",
    "        print('Your grade of subjects: A')\n",
    "    elif 80 <= x <= 89:\n",
    "        print('Your grade of subjects: B')\n",
    "    elif 70 <= x <= 79:\n",
    "        print('Your grade of subjects: C')\n",
    "    elif 60 <= x <= 69:\n",
    "        print('Your grade of subjects: D')\n",
    "    elif 0 <= x <= 59:\n",
    "        print('Your grade of subjects: F')\n",
    "    else:\n",
    "        print('Enter the correct data!')\n",
    "        a = input('Enter the marks separated by a space: ')\n",
    "        calculate_grades(a)\n",
    "\n",
    "calculate_grades(grades)\n"
   ]
  },
  {
   "cell_type": "code",
   "execution_count": 13,
   "id": "a2296e50",
   "metadata": {},
   "outputs": [
    {
     "name": "stdout",
     "output_type": "stream",
     "text": [
      "Enter mass of the first object 4\n",
      "Enter mass of the second object 4\n",
      "Enter distance between them 2\n",
      "Gravitational force = 2.6692e-10 N\n"
     ]
    }
   ],
   "source": [
    "# Gravitational Force\n",
    "m1, m2, dist = float(input('Enter mass of the first object ')), float(input('Enter mass of the second object ')), float(input('Enter distance between them '))\n",
    "\n",
    "def gravitational_force(m1, m2, dist):\n",
    "  G = 6.673*10**-11\n",
    "  g_f = G*((m1*m2)/dist**2)\n",
    "  return f\"Gravitational force = {g_f} N\"\n",
    "\n",
    "print(gravitational_force(m1, m2, dist))"
   ]
  },
  {
   "cell_type": "code",
   "execution_count": 17,
   "id": "e848515d",
   "metadata": {},
   "outputs": [
    {
     "name": "stdout",
     "output_type": "stream",
     "text": [
      "Enter first side 12\n",
      "Enter second side 12\n",
      "Enter third side 12\n",
      "The area of the triangle 62.353829072479584\n"
     ]
    }
   ],
   "source": [
    "from math import sqrt\n",
    "\n",
    "a, b, c = int(input('Enter first side ')), int(input('Enter second side ')), int(input('Enter third side '))\n",
    "\n",
    "def area_triangle_herons_formula(a, b, c):\n",
    "  p = 0.5*(a+b+c)\n",
    "  return sqrt(p*(p-a)*(p-b)*(p-c))\n",
    "\n",
    "try: \n",
    "    area = area_triangle_herons_formula(a, b, c)\n",
    "except ValueError:\n",
    "    print(\"An error in the mathematical domain. Enter valid values\")\n",
    "    \n",
    "print(f\"The area of the triangle {area}\")\n"
   ]
  },
  {
   "cell_type": "code",
   "execution_count": 57,
   "id": "a7d402e4",
   "metadata": {},
   "outputs": [
    {
     "name": "stdout",
     "output_type": "stream",
     "text": [
      "Enter number 3\n",
      "Prime number\n",
      "Enter number 3\n",
      "2 prime number\n",
      "3 prime number\n",
      "Enter number 3\n",
      "[2, 3]\n"
     ]
    }
   ],
   "source": [
    "#Prime number\n",
    "\n",
    "\n",
    "# Check prime\n",
    "num = (int(input('Enter number ')))\n",
    "\n",
    "def prostoe(x):\n",
    "  if x < 2:\n",
    "    return False\n",
    "  for i in range(2, x):\n",
    "      if x%i == 0:\n",
    "        return False\n",
    "  return True\n",
    "\n",
    "pro = prostoe(num)\n",
    "if pro:\n",
    "  print('Prime number')\n",
    "else:\n",
    "  print('Not prime number') \n",
    "\n",
    "\n",
    "# All prime numbers output\n",
    "num = (int(input('Enter number ')))\n",
    "\n",
    "def all_prosto_output(x):\n",
    "  if x < 2:\n",
    "    print('Not prime numbers')\n",
    "    return \n",
    "  for i in range(2, x+1):\n",
    "      if prostoe(i):\n",
    "        print(f'{i} prime number')\n",
    "        \n",
    "all_prosto_output(num) \n",
    "\n",
    "\n",
    "# All prime numbers save\n",
    "nums = (int(input('Enter number ')))\n",
    "\n",
    "def all_prosto_save(x):\n",
    "  all_p = []\n",
    "  if x < 2:\n",
    "    return \n",
    "  for i in range(2, x+1):\n",
    "      if prostoe(i):\n",
    "        all_p.append(i)  \n",
    "  return all_p\n",
    "\n",
    "save = all_prosto_save(nums)\n",
    "print(save)\n",
    "\n"
   ]
  },
  {
   "cell_type": "code",
   "execution_count": 58,
   "id": "bcf1745f",
   "metadata": {},
   "outputs": [
    {
     "name": "stdout",
     "output_type": "stream",
     "text": [
      "Enter number 123\n",
      "[3, 41]\n",
      "Enter number 423\n",
      "3 - smallest prime factors\n"
     ]
    }
   ],
   "source": [
    "# Prime factors\n",
    "num = (int(input('Enter number ')))\n",
    "\n",
    "def prime_factors(x):\n",
    "    if prostoe(x):\n",
    "        return f\"{x} prime number\"\n",
    "    if x < 2:\n",
    "        return 'Not prime number'\n",
    "    delim = 2\n",
    "    factors = []\n",
    "    while x > 2:\n",
    "        if x%delim == 0:\n",
    "            factors.append(delim)\n",
    "            x //= delim\n",
    "        else:\n",
    "            delim += 1\n",
    "    return factors\n",
    "\n",
    "factors = prime_factors(num)\n",
    "print(factors)\n",
    "  \n",
    "\n",
    "# Smallest prime factor\n",
    "num = (int(input('Enter number ')))\n",
    "def smal_pf(x):\n",
    "    if prostoe(x):\n",
    "        return f\"{x} - prime number\"\n",
    "    if x < 2:\n",
    "        return 'Not prime number'\n",
    "    delim = 2\n",
    "    while True:\n",
    "        if x%delim != 0:\n",
    "            delim += 1\n",
    "        else:\n",
    "            return f\"{delim} - smallest prime factor\"\n",
    "\n",
    "print(smal_pf(num))\n",
    "        \n",
    "  "
   ]
  },
  {
   "cell_type": "code",
   "execution_count": 5,
   "id": "aa2f2e56",
   "metadata": {},
   "outputs": [
    {
     "name": "stdout",
     "output_type": "stream",
     "text": [
      "ybab RUOY evol I\n",
      "ybab RUOY evol I\n",
      "987654321\n",
      "654321\n",
      "baby YOUR love I\n"
     ]
    }
   ],
   "source": [
    "# Reverse string\n",
    "string = \"I love YOUR baby\" \n",
    "rev_s = string[::-1]  \n",
    "print(rev_s)  \n",
    "\n",
    "# Reverse string (stack)\n",
    "def r_stack(x):\n",
    "    stack = []\n",
    "    r = ''\n",
    "    for i in x:\n",
    "        stack.append(i)\n",
    "    for _ in range (len(stack)):\n",
    "        r = '%s%s' % (r,stack.pop())\n",
    "    return r\n",
    "print(r_stack(\"I love YOUR baby\"))   \n",
    "\n",
    "\n",
    "# Recursive Reverse string and number \n",
    "def r_s(x):\n",
    "      if type(x) is int:\n",
    "        x = str(x)\n",
    "      if len(x) == 1:\n",
    "        return x.pop()\n",
    "      if type(x) is not list:\n",
    "            x = list(x)\n",
    "      return \"%s%s\" % (x.pop(), r_s(x))\n",
    "\n",
    "print(r_s(123456789))\n",
    "\n",
    "\n",
    "# Reverse number\n",
    "num = 123456\n",
    "n = \"\" \n",
    "while num > 0:\n",
    "    n = '%s%s' % (n, num%10)\n",
    "    num = num//10\n",
    "print(n) \n",
    "\n",
    "\n",
    "# Reverse word\n",
    "w = string.split()\n",
    "print(\" \".join(w[::-1])) \n",
    "\n",
    "\n"
   ]
  },
  {
   "cell_type": "code",
   "execution_count": 12,
   "id": "ebaab944",
   "metadata": {},
   "outputs": [
    {
     "name": "stdout",
     "output_type": "stream",
     "text": [
      "True\n",
      "784\n",
      "115132219018763992565095597973971522401 - narcissistic number\n",
      "6\n",
      "80.0\n"
     ]
    }
   ],
   "source": [
    "# Check palindrome\n",
    "def palindrom(x):\n",
    "    if x == x[::-1]:\n",
    "        return True\n",
    "    \n",
    "print(palindrom(\"мат и тут и там\"))\n",
    "\n",
    "\n",
    "# Cube sum \n",
    "def cubes(x):\n",
    "    sum = 0\n",
    "    for i in range(1, x+1):\n",
    "        sum += i**3\n",
    "    return sum\n",
    "\n",
    "print(cubes(7))\n",
    "\n",
    "\n",
    "# Amstrong number\n",
    "num = 115132219018763992565095597973971522401\n",
    "\n",
    "def amstrong(x):\n",
    "    y = [int(i) for i in str(x)]\n",
    "    y = sum(list(map(lambda x : x**len(y), y)))\n",
    "    return y == x\n",
    "    \n",
    "if amstrong(num):\n",
    "    print(f\"{num} - narcissistic number\")\n",
    "else:\n",
    "    print(\"Not narcissistic number\") \n",
    "\n",
    "\n",
    "# GCD\n",
    "def gcd(x, y):\n",
    "    while x > 0 and y > 0:\n",
    "        if x >= y:\n",
    "            x %= y\n",
    "        else:\n",
    "            y %= x\n",
    "    return max(x, y)\n",
    "    \n",
    "print(gcd(48, 18))\n",
    "\n",
    "\n",
    "# LCM\n",
    "def lcm(x, y):\n",
    "    return x*y/gcd(x, y)\n",
    "\n",
    "print(lcm(16, 20))"
   ]
  }
 ],
 "metadata": {
  "kernelspec": {
   "display_name": "Python 3 (ipykernel)",
   "language": "python",
   "name": "python3"
  },
  "language_info": {
   "codemirror_mode": {
    "name": "ipython",
    "version": 3
   },
   "file_extension": ".py",
   "mimetype": "text/x-python",
   "name": "python",
   "nbconvert_exporter": "python",
   "pygments_lexer": "ipython3",
   "version": "3.9.7"
  }
 },
 "nbformat": 4,
 "nbformat_minor": 5
}
