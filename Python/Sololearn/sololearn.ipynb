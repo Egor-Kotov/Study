{
 "cells": [
  {
   "cell_type": "code",
   "execution_count": 16,
   "id": "97b1afe0",
   "metadata": {},
   "outputs": [
    {
     "name": "stdout",
     "output_type": "stream",
     "text": [
      "bob\n",
      "Bob is 18\n",
      "Bob is 18\n"
     ]
    }
   ],
   "source": [
    "# Age 1\n",
    "contacts = [\n",
    "    ('James', 42),\n",
    "    ('Amy', 24),\n",
    "    ('John', 31),\n",
    "    ('Amanda', 63),\n",
    "    ('Bob', 18)\n",
    "]\n",
    "\n",
    "z = str(input()).capitalize()\n",
    "\n",
    "def age1(x):\n",
    "  string = None\n",
    "  for i in contacts:\n",
    "    if i[0] == x:\n",
    "      string = i[0]+\" is \"+str(i[1])\n",
    "  if string is None:\n",
    "    string = \"Not found\"\n",
    "  return string\n",
    "\n",
    "# Age 2\n",
    "def age2(x):\n",
    "    for i in contacts:\n",
    "        if x in i:\n",
    "            print(f\"{x} is {i[1]}\")\n",
    "            break\n",
    "    else:\n",
    "        print(\"Not found\")\n",
    "    \n",
    "print(age1(z))\n",
    "age2(z)\n",
    "\n"
   ]
  },
  {
   "cell_type": "code",
   "execution_count": 30,
   "id": "efedd291",
   "metadata": {},
   "outputs": [
    {
     "name": "stdout",
     "output_type": "stream",
     "text": [
      "Assaasdwier\n",
      "{'a': 3, 's': 3, 'd': 1, 'w': 1, 'i': 1, 'e': 1, 'r': 1}\n",
      "True\n"
     ]
    }
   ],
   "source": [
    "# letter counter\n",
    "text = input().lower()\n",
    "dict = {chr:text.count(chr) for chr in text}\n",
    "print(dict)\n",
    "print(\"a\" in dict)"
   ]
  }
 ],
 "metadata": {
  "kernelspec": {
   "display_name": "Python 3 (ipykernel)",
   "language": "python",
   "name": "python3"
  },
  "language_info": {
   "codemirror_mode": {
    "name": "ipython",
    "version": 3
   },
   "file_extension": ".py",
   "mimetype": "text/x-python",
   "name": "python",
   "nbconvert_exporter": "python",
   "pygments_lexer": "ipython3",
   "version": "3.9.7"
  }
 },
 "nbformat": 4,
 "nbformat_minor": 5
}
