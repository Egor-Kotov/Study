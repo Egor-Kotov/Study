{
 "cells": [
  {
   "cell_type": "code",
   "execution_count": null,
   "id": "72559e7a",
   "metadata": {},
   "outputs": [],
   "source": [
    "# напишите выражение внутри print(...) в результате которого\n",
    "# на консоль должно выводиться число 12\n",
    "\n",
    "print(3+3+3+3)"
   ]
  },
  {
   "cell_type": "code",
   "execution_count": null,
   "id": "b546ec07",
   "metadata": {},
   "outputs": [],
   "source": [
    "# Объявите переменную name и присвойте значение \"John Snow\", и переменную с именем age и присвойте ей значение 29.\n",
    "\n",
    "name = \"John Snow\"\n",
    "age = 29"
   ]
  },
  {
   "cell_type": "code",
   "execution_count": 2,
   "id": "45a1591a",
   "metadata": {},
   "outputs": [
    {
     "name": "stdout",
     "output_type": "stream",
     "text": [
      "I'm a student and I'll become a \"strong\" programmer\n",
      "C:\\Users\\GoodStudent\n",
      "C:\\Users\\GoodStudent\n",
      "y\n",
      "nesgt\n"
     ]
    }
   ],
   "source": [
    "#I'm a student and I'll become a \"strong\" programmer\n",
    "print(\"I'm a student and I'll become a \\\"strong\\\" programmer\")\n",
    "\n",
    "#C:\\Users\\GoodStudent\n",
    "print(\"C:\\\\Users\\\\GoodStudent\") \n",
    "print(r\"C:\\Users\\GoodStudent\")\n",
    "\n",
    "\n",
    "x = \"My name is Agent Smith\"\n",
    "\n",
    "# y\n",
    "print(x[1]) \n",
    "\n",
    "#nesgt\n",
    "print(x[3:-6:3]) "
   ]
  },
  {
   "cell_type": "code",
   "execution_count": 7,
   "id": "ac0a226c",
   "metadata": {},
   "outputs": [
    {
     "name": "stdout",
     "output_type": "stream",
     "text": [
      "Дорогой клиент, сколько чашек кофе желаете? 4\n",
      "Спасибо за заказ! \n",
      "Сегодня у нас акция, закажите еще 2 кофе и получите один в подарок, не желаете?\n",
      "Введите координаты x первой точки 3\n",
      "Введите координаты y первой точки 5.22\n",
      "Введите координаты x второй точки 1\n",
      "Введите координаты y второй точки 6.121\n",
      "Расстояние между заданными точками = 2.194\n"
     ]
    }
   ],
   "source": [
    "# 1. Клиент покупает кофе в кафе. За каждые 6 чашек, 1 чашка даётся в качестве бонуса.\n",
    "# Задача: запросить у пользователя кол-во чашек на покупку, вычислить полагающееся кол-во \n",
    "# бонусных чашек кофе и вывести это число на консоль.\n",
    "\n",
    "cups = int(input('Дорогой клиент, сколько чашек кофе желаете? '))\n",
    "\n",
    "if cups >= 6:\n",
    "    bonus = round(cups//6)\n",
    "    print(f'Как наш постоянный клиент Вы получаете, еще {bonus} кофе в подарок!\\nСпасибо за заказ!')\n",
    "else:\n",
    "    maybe = 6 - cups\n",
    "    print(f\"Спасибо за заказ! \\nСегодня у нас акция, закажите еще {maybe} кофе и получите один в подарок, не желаете?\")\n",
    "\n"
   ]
  },
  {
   "cell_type": "code",
   "execution_count": null,
   "id": "7f2751e8",
   "metadata": {},
   "outputs": [],
   "source": [
    "# 2. Запросить у пользователя координаты x и y двух точек на плоскости. Посчитать расстояние \n",
    "# между заданными точками и вывести результат на консоль с точностью до трёх знаков после запятой (плавающей точки).\n",
    "# Примечание: у каждой точки есть две координаты: x и y. Расстояние рассчитывается по формуле, которую вы с лёгкостью \n",
    "# найдёте в Интернете (да, гуглить всё, что вы не знаете - очень полезно!).\n",
    "\n",
    "from math import sqrt\n",
    "\n",
    "x1, y1, x2, y2 = float(input('Введите координаты x первой точки ')), float(input('Введите координаты y первой точки ')), float(input('Введите координаты x второй точки ')), float(input('Введите координаты y второй точки '))\n",
    "\n",
    "cm = round(sqrt((x1-x2)**2 + (y1-y2)**2), 3)\n",
    "\n",
    "print(f\"Расстояние между заданными точками = {cm}\")"
   ]
  },
  {
   "cell_type": "code",
   "execution_count": 1,
   "id": "eeed1d63",
   "metadata": {},
   "outputs": [
    {
     "name": "stdout",
     "output_type": "stream",
     "text": [
      "Если не секрет, сколько у вас кур? 5\n",
      "А коровы есть? 2\n",
      "Неужели и свиньи есть???? 6\n",
      "Выходит на ферме у вас 44 ноги, если еще ваши считать)))\n"
     ]
    }
   ],
   "source": [
    "# 3. На ферме есть куры, коровы и свиньи. У курицы две ноги, у свиньи - четыре, у коровы - четыре. \n",
    "# Запросить у пользователя (фермера) ввод кол-ва кур, свиней и коров, просуммировать кол-во ног \n",
    "# всех животных и вывести результат на консоль.\n",
    "chiken, cow, dosy = int(input(\"Если не секрет, сколько у вас кур? \")), int(input(\"А коровы есть? \")), int(input(\"Неужели и свиньи есть???? \"))\n",
    "\n",
    "print(f\"Выходит на ферме у вас {chiken*2+cow*4+dosy*4+2} ноги, если еще ваши считать)))\")\n"
   ]
  },
  {
   "cell_type": "code",
   "execution_count": null,
   "id": "f1881dd6",
   "metadata": {},
   "outputs": [],
   "source": []
  }
 ],
 "metadata": {
  "kernelspec": {
   "display_name": "Python 3 (ipykernel)",
   "language": "python",
   "name": "python3"
  },
  "language_info": {
   "codemirror_mode": {
    "name": "ipython",
    "version": 3
   },
   "file_extension": ".py",
   "mimetype": "text/x-python",
   "name": "python",
   "nbconvert_exporter": "python",
   "pygments_lexer": "ipython3",
   "version": "3.9.7"
  }
 },
 "nbformat": 4,
 "nbformat_minor": 5
}
